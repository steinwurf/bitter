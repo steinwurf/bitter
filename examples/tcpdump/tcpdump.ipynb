{
 "cells": [
  {
   "cell_type": "markdown",
   "metadata": {},
   "source": [
    "# About\n",
    "\n",
    "Run `tcpdump` to see if we can read the raw bytes off the wire and verify endianess of the TCP header."
   ]
  },
  {
   "cell_type": "code",
   "execution_count": 8,
   "metadata": {
    "collapsed": false
   },
   "outputs": [
    {
     "name": "stdout",
     "output_type": "stream",
     "text": [
      "tcpdump: verbose output suppressed, use -v or -vv for full protocol decode\n",
      "listening on eno1, link-type EN10MB (Ethernet), capture size 262144 bytes\n",
      "14:17:35.632129 IP 10.10.138.125.49166 > 109.238.50.21.80: Flags [S], seq 3608769402, win 29200, options [mss 1460,sackOK,TS val 4978207 ecr 0,nop,wscale 7], length 0\n",
      "\t0x0000:  4500 003c 8565 4000 4006 80cc 0a0a 8a7d  E..<.e@.@......}\n",
      "\t0x0010:  6dee 3215 c00e 0050 d719 737a 0000 0000  m.2....P..sz....\n",
      "\t0x0020:  a002 7210 34b9 0000 0204 05b4 0402 080a  ..r.4...........\n",
      "\t0x0030:  004b f61f 0000 0000 0103 0307            .K..........\n",
      "1 packet captured\n",
      "2 packets received by filter\n",
      "0 packets dropped by kernel\n",
      "29 packets dropped by interface\n"
     ]
    }
   ],
   "source": [
    "! sudo tcpdump -nn -c1 -X tcp dst port 80"
   ]
  },
  {
   "cell_type": "markdown",
   "metadata": {},
   "source": [
    "In the above capture we pass the following options to the `tcpdump` command:\n",
    "\n",
    "* `-nn` Do not resolve hostnames, don't convert protocol and port numbers etc. to names either.\n",
    "* `-c` Capture _x_ packets and then stop (in our case we just capture 1).\n",
    "* `tcp` Capture only TCP packets\n",
    "* `dst port` Filter only packets going to port 80\n",
    "* `-X` Print data of the packet in hex."
   ]
  },
  {
   "cell_type": "markdown",
   "metadata": {},
   "source": [
    "Note that the output of `tcpdump` will change everytime we run it. So for reference here is the ouput that we will use for the remainder of the text:\n",
    "\n",
    "```\n",
    "tcpdump: verbose output suppressed, use -v or -vv for full protocol decode\n",
    "listening on eno1, link-type EN10MB (Ethernet), capture size 262144 bytes\n",
    "14:17:35.632129 IP 10.10.138.125.49166 > 109.238.50.21.80: Flags [S], seq 3608769402, win 29200, options [mss 1460,sackOK,TS val 4978207 ecr 0,nop,wscale 7], length 0\n",
    "\t0x0000:  4500 003c 8565 4000 4006 80cc 0a0a 8a7d  E..<.e@.@......}\n",
    "\t0x0010:  6dee 3215 c00e 0050 d719 737a 0000 0000  m.2....P..sz....\n",
    "\t0x0020:  a002 7210 34b9 0000 0204 05b4 0402 080a  ..r.4...........\n",
    "\t0x0030:  004b f61f 0000 0000 0103 0307            .K..........\n",
    "1 packet captured\n",
    "2 packets received by filter\n",
    "0 packets dropped by kernel\n",
    "29 packets dropped by interface\n",
    "```\n"
   ]
  },
  {
   "cell_type": "markdown",
   "metadata": {},
   "source": [
    "The quick glance we see that the packet captured was going from:\n",
    "\n",
    "* 10.10.138.125.49166, where 10.10.138.125 is the source IP and 49166 is the source port.\n",
    "\n",
    "To: \n",
    "* 109.238.50.21.80, where 109.238.50.21 is the destination IP and 80 is the destination port.\n",
    "\n",
    "Good with that in place we can look at the bytes of the packet, it was a bit hard to find but it seems that `tcpdump` prints also the IP header. See format [here](https://en.wikipedia.org/wiki/IPv4). \n",
    "\n",
    "The first four bits are the IP version used, which is 0x4, so we are using IP version 4. The length of the IP header in 32 bit words is the next four bits. Which is 0x5, so we konw that our TCP header will start $5\\cdot32$ bits into the data. This is equivalent to skipping over 40 hex digits. \n",
    "\n",
    "This means that the first 32 bit word of the TCP header must be `c00e 0050`. \n",
    "\n",
    "Important note is that memory wise this is stored as (where memory is some pointer to our data):\n",
    "\n",
    "* `memory[0] = c0;`\n",
    "* `memory[1] = 0e;`\n",
    "* `memory[2] = 00;`\n",
    "* `memory[3] = 50;`\n",
    "\n",
    "When we interpret the memory we have to be a bit careful, both the source an destination port stored in this 32 bit memory are stored using _network byte order_ or _big endian_ which means that the most significant byte comes first. \n",
    "\n",
    "* The first 16 bits are the source port `0xc00e` which equals 49166 in decimal.\n",
    "* The second 16 bits are the destination port `0x0050` which equals 80 in decimal.\n",
    "\n",
    "This matches our inital expectation."
   ]
  },
  {
   "cell_type": "markdown",
   "metadata": {},
   "source": [
    "Lets try to parse this with bitter:"
   ]
  },
  {
   "cell_type": "code",
   "execution_count": 1,
   "metadata": {
    "collapsed": false
   },
   "outputs": [
    {
     "name": "stdout",
     "output_type": "stream",
     "text": [
      "Cloning into 'bitter'...\n",
      "remote: Counting objects: 646, done.\u001b[K\n",
      "remote: Compressing objects: 100% (74/74), done.\u001b[K\n",
      "remote: Total 646 (delta 42), reused 0 (delta 0), pack-reused 566\u001b[K\n",
      "Receiving objects: 100% (646/646), 190.12 KiB | 0 bytes/s, done.\n",
      "Resolving deltas: 100% (347/347), done.\n",
      "Checking connectivity... done.\n"
     ]
    }
   ],
   "source": [
    "! git clone git@github.com:steinwurf/bitter.git"
   ]
  },
  {
   "cell_type": "markdown",
   "metadata": {},
   "source": [
    "We also need to get be able to read the big endian numbers and convert them to the host manchines endianess. This can be done with our endian library:"
   ]
  },
  {
   "cell_type": "code",
   "execution_count": 9,
   "metadata": {
    "collapsed": false
   },
   "outputs": [
    {
     "name": "stdout",
     "output_type": "stream",
     "text": [
      "Cloning into 'endian'...\n",
      "remote: Counting objects: 347, done.\u001b[K\n",
      "remote: Total 347 (delta 0), reused 0 (delta 0), pack-reused 347\u001b[K\n",
      "Receiving objects: 100% (347/347), 152.41 KiB | 0 bytes/s, done.\n",
      "Resolving deltas: 100% (202/202), done.\n",
      "Checking connectivity... done.\n"
     ]
    }
   ],
   "source": [
    "! git clone git@github.com:steinwurf/endian.git"
   ]
  },
  {
   "cell_type": "code",
   "execution_count": 16,
   "metadata": {
    "collapsed": false
   },
   "outputs": [
    {
     "name": "stdout",
     "output_type": "stream",
     "text": [
      "Overwriting parse_tcp_header.cpp\n"
     ]
    }
   ],
   "source": [
    "%%file parse_tcp_header.cpp\n",
    "\n",
    "#include <iostream>\n",
    "\n",
    "#include <bitter/reader.hpp>\n",
    "#include <endian/big_endian.hpp>\n",
    "\n",
    "int main()\n",
    "{\n",
    "    uint8_t data[] = {0xc0,0x0e,0x00,0x50};\n",
    "    \n",
    "    std::cout << \"src port = \" << endian::big_endian::get<uint16_t>(data) << std::endl;\n",
    "    std::cout << \"dest port = \" << endian::big_endian::get<uint16_t>(data+2) << std::endl;\n",
    "    \n",
    "    return 0;\n",
    "}"
   ]
  },
  {
   "cell_type": "code",
   "execution_count": 17,
   "metadata": {
    "collapsed": false
   },
   "outputs": [],
   "source": [
    "! g++ -std=c++11 -Ibitter/src -Iendian/src parse_tcp_header.cpp "
   ]
  },
  {
   "cell_type": "markdown",
   "metadata": {},
   "source": [
    "Lets run it:"
   ]
  },
  {
   "cell_type": "code",
   "execution_count": 18,
   "metadata": {
    "collapsed": false
   },
   "outputs": [
    {
     "name": "stdout",
     "output_type": "stream",
     "text": [
      "src port = 49166\r\n",
      "dest port = 80\r\n"
     ]
    }
   ],
   "source": [
    "! ./a.out"
   ]
  },
  {
   "cell_type": "code",
   "execution_count": null,
   "metadata": {
    "collapsed": true
   },
   "outputs": [],
   "source": []
  }
 ],
 "metadata": {
  "kernelspec": {
   "display_name": "Python 3",
   "language": "python",
   "name": "python3"
  },
  "language_info": {
   "codemirror_mode": {
    "name": "ipython",
    "version": 3
   },
   "file_extension": ".py",
   "mimetype": "text/x-python",
   "name": "python",
   "nbconvert_exporter": "python",
   "pygments_lexer": "ipython3",
   "version": "3.5.2"
  }
 },
 "nbformat": 4,
 "nbformat_minor": 1
}
